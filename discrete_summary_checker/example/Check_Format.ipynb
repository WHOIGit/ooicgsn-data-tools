{
 "cells": [
  {
   "cell_type": "markdown",
   "metadata": {},
   "source": [
    "# Check Discrete Sample Summary Format\n",
    "This workbook goes through the process of checking a **Discrete Sample Summary** Spreadsheet for the correct format. The parts it checks are:\n",
    "1. Column Headings and Column Order\n",
    "2. Column Elements\n",
    "    * Properly formatted\n",
    "    * Reasonable or expected values\n",
    "    * Has proper fill values\n",
    "3. Completeness\n",
    "    * Identify missing or incomplete elements\n",
    "\n",
    "This is done using the ```pandas_schema``` library, which works to validate formatting and data of csv or tabular data. It has both off-the-shelf validation tools, such as a regex checker, as well as functionality to pass in custom format checkers."
   ]
  },
  {
   "cell_type": "markdown",
   "metadata": {},
   "source": [
    "#### Import Libraries"
   ]
  },
  {
   "cell_type": "code",
   "execution_count": null,
   "metadata": {},
   "outputs": [],
   "source": [
    "import pandas as pd\n",
    "import numpy as np"
   ]
  },
  {
   "cell_type": "markdown",
   "metadata": {},
   "source": [
    "#### Summary Sheet\n",
    "Load the summary sheet. Make sure to navigate to the correct directory and have the correct file name entered."
   ]
  },
  {
   "cell_type": "code",
   "execution_count": null,
   "metadata": {},
   "outputs": [],
   "source": [
    "summary_sheet = pd.read_excel(\"../data/Irminger_Sea-06_AR35-05_Discrete_Sample_Summary.xlsx\")\n",
    "summary_sheet.head()"
   ]
  },
  {
   "cell_type": "markdown",
   "metadata": {},
   "source": [
    "#### Cruise Names\n",
    "Load the R2R list of cruise names. These are the \"official\" cruise names which should be entered on the spreadsheets."
   ]
  },
  {
   "cell_type": "code",
   "execution_count": null,
   "metadata": {},
   "outputs": [],
   "source": [
    "cruise_information = pd.read_csv(\"../data/CruiseInformation.csv\")\n",
    "cruise_names = cruise_information[\"CUID\"].to_list()\n",
    "cruise_names"
   ]
  },
  {
   "cell_type": "markdown",
   "metadata": {},
   "source": [
    "---\n",
    "### Column Headers\n",
    "First, need to check that the headers of the columns are both (1) have the correct names and (2) should be in the correct order."
   ]
  },
  {
   "cell_type": "code",
   "execution_count": null,
   "metadata": {},
   "outputs": [],
   "source": [
    "column_headers = pd.read_csv(\"../data/ColumnHeaders.csv\")\n",
    "# Convert the column headers to the \n",
    "column_headers = tuple(column_headers.columns)\n",
    "for k,column in enumerate(summary_sheet.columns):\n",
    "    try:\n",
    "        if column != column_headers[k]:\n",
    "            # Check if its just not in the correct location\n",
    "            if column in column_headers:\n",
    "                ind = column_headers.index(column)\n",
    "                # Print the results\n",
    "                print(f\"{column} should be moved from position {k} to {ind}\")\n",
    "            else:\n",
    "                print(f\"{column} not an accepted header. Should be '{column_headers[k]}'\")\n",
    "    except IndexError:\n",
    "        print(f\"{column} needs to be deleted.\")"
   ]
  },
  {
   "cell_type": "markdown",
   "metadata": {},
   "source": [
    "---\n",
    "## Pandas Schema Validator\n",
    "Next, we're going to check the individaul elements of the spreadsheet using the ```pandas_schema``` package to develop column validator schemes for the ship data that is more intuitive that for loops, etc."
   ]
  },
  {
   "cell_type": "code",
   "execution_count": null,
   "metadata": {},
   "outputs": [],
   "source": [
    "from io import StringIO\n",
    "from pandas_schema import Column, Schema\n",
    "from pandas_schema.validation import *"
   ]
  },
  {
   "cell_type": "markdown",
   "metadata": {},
   "source": [
    "#### Custom Validators\n",
    "Next, write a couple of specific functions for checking the cruise data\n",
    "* ```check_decimal``` just checks that a value is a floating-point decimal\n",
    "* ```check_int``` just checks that a value is an integer\n",
    "* ```is_same``` operates on all the values in a column, checking that they are all the same value\n",
    "\n",
    "These functions get passed into either ```CustomElementValidation``` or ```CustomSeriesValidation``` objects to create a validator which can get passed into ```pandas_schema``` for checking."
   ]
  },
  {
   "cell_type": "code",
   "execution_count": null,
   "metadata": {},
   "outputs": [],
   "source": [
    "from decimal import *\n",
    "\n",
    "def check_decimal(dec):\n",
    "    try:\n",
    "        Decimal(dec)\n",
    "    except InvalidOperation:\n",
    "        return False\n",
    "    return True\n",
    "\n",
    "def check_int(num):\n",
    "    try:\n",
    "        int(num)\n",
    "    except ValueError:\n",
    "        return False\n",
    "    return True\n",
    "\n",
    "DecimalValidation = CustomElementValidation(lambda d: check_decimal(d), \"is not decimal\")\n",
    "IntValidation = CustomElementValidation(lambda d: check_int(d), \"is not an integer\")"
   ]
  },
  {
   "cell_type": "code",
   "execution_count": null,
   "metadata": {},
   "outputs": [],
   "source": [
    "def is_same(series):\n",
    "    return series == series.mode()[0]\n",
    "\n",
    "IsSameValidation = CustomSeriesValidation(is_same, \"is not the same as other rows\")"
   ]
  },
  {
   "cell_type": "markdown",
   "metadata": {},
   "source": [
    "---\n",
    "### Validation Schema\n",
    "Next, build the validation schema to check the summary sheet. The checks will differ based on whether the columns are **metadata**, **CTD measurements**, or **Discrete measurements**. There are a few basic checks which I use on the summary sheets:\n",
    "* ```InListValidation```: Each element of a column is checked against a list of possible values\n",
    "* ```MatchesPatternValidation```: Use regex to check that an element of the column matches the pattern\n",
    "* ```InRangeValidation```: Checks that the element of a column is within a (min, max) value. Used to make sure the values are reasonable and physically real.\n"
   ]
  },
  {
   "cell_type": "code",
   "execution_count": null,
   "metadata": {},
   "outputs": [],
   "source": [
    "schema = Schema([\n",
    "    # ---------------------------------------------------------------------------------------\n",
    "    # Check metadata columns:\n",
    "    #     Cruise, Station, Target Asset, Start Lat, Start Lon, Start Time, Cast, Bottom Depth\n",
    "    #     All flag columns checked to start with \"*\" and be 16-digits long\n",
    "    Column(\"Cruise\", [InListValidation(cruise_names) | MatchesPatternValidation(\"-9999999\")]),\n",
    "    Column(\"Station\", [IntValidation]),\n",
    "    Column(\"Target Asset\", []),\n",
    "    Column(\"Start Latitude [degrees]\", [InRangeValidation(-90, 90)]),\n",
    "    Column(\"Start Longitude [degrees]\", [InRangeValidation(-180, 180)]),\n",
    "    Column(\"Start Time [UTC]\", [DateFormatValidation(\"%Y-%m-%dT%H:%M:%S.%fZ\")]),\n",
    "    Column(\"Cast\", [IntValidation]),\n",
    "    Column(\"Cast Flag\", [MatchesPatternValidation(r\"\\*0|1{16}\") | MatchesPatternValidation(\"-9999999\")]),\n",
    "    Column(\"Bottom Depth at Start Position [m]\", [InRangeValidation(0, 6000) | MatchesPatternValidation(\"-9999999\")]),\n",
    "    \n",
    "    # ----------------------------------------------------------------------------------------\n",
    "    # CTD Data columns: \n",
    "    #     These columns correspond to the CTD measurements made at each Niskin bottle closure\n",
    "    #     All flag columns checked to start with \"*\" and be 16-digits long\n",
    "    # CTD Files: Check they end with .hex\n",
    "    Column(\"CTD File\", [MatchesPatternValidation(r\".*\\.hex$\") | MatchesPatternValidation(\"-9999999\")]),\n",
    "    Column(\"CTD File Flag\", [MatchesPatternValidation(r\"\\*0|1{16}\") | MatchesPatternValidation(\"-9999999\")]),\n",
    "    \n",
    "    # Niskin Bottles: Check they are integers between 0 & 24\n",
    "    Column(\"Niskin/Bottle Position\", [IntValidation, InRangeValidation(0, 25) | MatchesPatternValidation(\"-9999999\")]),\n",
    "    Column(\"Niskin Flag\", [MatchesPatternValidation(r\"\\*0|1{16}\") | MatchesPatternValidation(\"-9999999\")]),\n",
    "    \n",
    "    # Bottle Closure Time: should be yyyy-mm-ddTHH:MM:SS.sssZ\n",
    "    Column(\"CTD Bottle Closure Time [UTC]\", [DateFormatValidation(\"%Y-%m-%dT%H:%M:%S.%fZ\") | MatchesPatternValidation(\"-9999999\")]),\n",
    "    \n",
    "    # Pressure & Depth: Should be physically reasonable (0 - 6000) and decimal floats\n",
    "    Column(\"CTD Pressure [db]\", [DecimalValidation, InRangeValidation(0, 6000) | MatchesPatternValidation(\"-9999999\")]),\n",
    "    Column(\"CTD Pressure Flag\", [MatchesPatternValidation(r\"\\*0|1{16}\") | MatchesPatternValidation(\"-9999999\")]),\n",
    "    Column(\"CTD Depth [m]\", [DecimalValidation, InRangeValidation(0, 6000) | MatchesPatternValidation(\"-9999999\")]),\n",
    "    \n",
    "    # Latitude & Longitude: Should be on Earth & decimal floats\n",
    "    Column(\"CTD Latitude [deg]\", [DecimalValidation, InRangeValidation(-90, 90)  | MatchesPatternValidation(\"-9999999\")]),\n",
    "    Column(\"CTD Longitude [deg]\", [DecimalValidation, InRangeValidation(-180, 180) | MatchesPatternValidation(\"-9999999\")]),\n",
    "    \n",
    "    # Temperature: Should be within 0 & 35C and decimal floats\n",
    "    Column(\"CTD Temperature 1 [deg C]\", [DecimalValidation, InRangeValidation(0, 35) | MatchesPatternValidation(\"-9999999\")]),\n",
    "    Column(\"CTD Temperature 1 Flag\", [MatchesPatternValidation(r\"\\*0|1{16}\") | MatchesPatternValidation(\"-9999999\")]),\n",
    "    Column(\"CTD Temperature 2 [deg C]\", [DecimalValidation, InRangeValidation(0, 35) | MatchesPatternValidation(\"-9999999\")]),\n",
    "    Column('CTD Temperature 2 Flag', [MatchesPatternValidation(r\"\\*0|1{16}\") | MatchesPatternValidation(\"-9999999\")]),\n",
    "    \n",
    "    # Conductivity: Should be within 0 & 6 and decimal floats\n",
    "    Column('CTD Conductivity 1 [S/m]', [DecimalValidation, InRangeValidation(0,6) | MatchesPatternValidation(\"-9999999\")]),\n",
    "    Column('CTD Conductivity 1 Flag', [MatchesPatternValidation(r\"\\*0|1{16}\") | MatchesPatternValidation(\"-9999999\")]),\n",
    "    Column('CTD Conductivity 2 [S/m]', [DecimalValidation, InRangeValidation(0,6) | MatchesPatternValidation(\"-9999999\")]),\n",
    "    Column('CTD Conductivity 2 Flag', [MatchesPatternValidation(r\"\\*0|1{16}\") | MatchesPatternValidation(\"-9999999\")]),\n",
    "    \n",
    "    # Practical salinity should be within ocean ranges (32, 37) and floats\n",
    "    Column('CTD Salinity 1 [psu]', [DecimalValidation, InRangeValidation(32, 37) | MatchesPatternValidation(\"-9999999\")]),\n",
    "    Column('CTD Salinity 2 [psu]', [DecimalValidation, InRangeValidation(32, 37) | MatchesPatternValidation(\"-9999999\")]),\n",
    "    \n",
    "    # Dissolved Oxygen & Sat concentrations should be within ocean ranges (0, 9) & decimal floats\n",
    "    Column('CTD Oxygen [mL/L]', [DecimalValidation, InRangeValidation(0, 9) | MatchesPatternValidation(\"-9999999\")]),\n",
    "    Column('CTD Oxygen Flag', [MatchesPatternValidation(r\"\\*0|1{16}\") | MatchesPatternValidation(\"-9999999\")]),\n",
    "    Column('CTD Oxygen Saturation [mL/L]', [DecimalValidation, InRangeValidation(5,9) | MatchesPatternValidation(\"-9999999\")]),\n",
    "    \n",
    "    # Fluorescence - we don't measure this, should be fill value -9999999\n",
    "    Column('CTD Fluorescence [mg/m^3]', [MatchesPatternValidation(\"-9999999\")]),\n",
    "    Column('CTD Fluorescence Flag', [MatchesPatternValidation(\"-9999999\")]),\n",
    "    \n",
    "    # Beam Attenuation (0, 1) and Transmission (0, 100)\n",
    "    Column('CTD Beam Attenuation [1/m]', [DecimalValidation, InRangeValidation(-0.1,1) | MatchesPatternValidation(\"-9999999\")]),\n",
    "    Column('CTD Beam Transmission [%]', [DecimalValidation, InRangeValidation(-1, 101) | MatchesPatternValidation(\"-9999999\")]),\n",
    "    Column('CTD Transmissometer Flag', [MatchesPatternValidation(r\"\\*0|1{16}\") | MatchesPatternValidation(\"-9999999\")]),\n",
    "    \n",
    "    # CTD pH - we don't measure this\n",
    "    Column('CTD pH', [MatchesPatternValidation(\"-9999999\")]),\n",
    "    Column('CTD pH Flag', [MatchesPatternValidation(\"-9999999\")]),\n",
    "    \n",
    "    # ----------------------------------------------------------------------------------------\n",
    "    # Discrete Sample Summaries\n",
    "    # Oxygen: Ranges should be within physical ocean ranges\n",
    "    Column('Discrete Oxygen [mL/L]', [DecimalValidation, InRangeValidation(0, 9) | MatchesPatternValidation(\"-9999999\")]),\n",
    "    Column('Discrete Oxygen Flag', [MatchesPatternValidation(r\"\\*0|1{16}\") | MatchesPatternValidation(\"-9999999\")]),\n",
    "    Column('Discrete Oxygen Replicate Flag', [MatchesPatternValidation(r\"\\*0|1{16}\") | MatchesPatternValidation(\"-9999999\")]),\n",
    "    \n",
    "    # Chlorophyll & Phaeopigment ranges (0, 10); don't collect Fo/Fa ratios\n",
    "    Column('Discrete Chlorophyll [ug/L]', [DecimalValidation & InRangeValidation(0,10) | MatchesPatternValidation(\"-9999999\") | MatchesPatternValidation(r\"[0-9]{2}/[0-9]{2}$\")]),\n",
    "    Column('Discrete Phaeopigment [ug/L]', [DecimalValidation & InRangeValidation(0,10) | MatchesPatternValidation(\"-9999999\") | MatchesPatternValidation(r\"[0-9]{2}/[0-9]{2}$\")]),\n",
    "    Column('Discrete Fo/Fa Ratio', [MatchesPatternValidation(\"-9999999\")]),\n",
    "    Column('Discrete Fluorescence Flag', [MatchesPatternValidation(r\"\\*0|1{16}\") | MatchesPatternValidation(\"-9999999\")]),\n",
    "    Column('Discrete Fluorescence Replicate Flag', [MatchesPatternValidation(r\"\\*0|1{16}\") | MatchesPatternValidation(\"-9999999\")]),\n",
    "    \n",
    "    # Nutrients: Ranges based on physical ocean ranges\n",
    "    #     Phosphate: Maximum value ~5 uM (WOA 2018 mean fields); check for \"<\" which means undetecable\n",
    "    Column('Discrete Phosphate [uM]', [InRangeValidation(0, 5) | MatchesPatternValidation(r\"<\\d.\\d{2}\") | MatchesPatternValidation(\"-9999999\")]),\n",
    "    #     Silicate: Maximum value for Southern Ocean ~120 uM (WOA 2018 mean fields); check for \"<\" which mean undetectable\n",
    "    Column('Discrete Silicate [uM]', [InRangeValidation(0, 120)| MatchesPatternValidation(r\"<\\d.\\d{2}\") | MatchesPatternValidation(\"-9999999\")]),\n",
    "    #     Nitrate: Maximum value ~50 uM (WOA 2018 Mean mean fields)\n",
    "    Column('Discrete Nitrate [uM]', [InRangeValidation(0, 50) | MatchesPatternValidation(r\"<\\d.\\d{2}\") | MatchesPatternValidation(\"-9999999\")]),\n",
    "    #     Nitrite: Maximum values should be < 10; check for \"<\" which means undetectable\n",
    "    Column('Discrete Nitrite [uM]', [InRangeValidation(0, 10) | MatchesPatternValidation(r\"<\\d.\\d{2}\") | MatchesPatternValidation(\"-9999999\")]),\n",
    "    #     Ammonium: Maximum values should be < 10; check for \"<\" which mean undetectable\n",
    "    Column('Discrete Ammonium [uM]', [InRangeValidation(0, 10) | MatchesPatternValidation(r\"<\\d.\\d{2}\") | MatchesPatternValidation(\"-9999999\")]),\n",
    "    Column('Discrete Nutrients Flag', [MatchesPatternValidation(r\"\\*0|1{16}\") | MatchesPatternValidation(\"-9999999\")]),\n",
    "    Column('Discrete Nutrients Replicate Flag', [MatchesPatternValidation(r\"\\*0|1{16}\") | MatchesPatternValidation(\"-9999999\")]),\n",
    "    \n",
    "    # Salinity: Check that the ranges are within physical ocean ranges\n",
    "    Column('Discrete Salinity [psu]', [InRangeValidation(33, 37) | MatchesPatternValidation(\"-9999999\")]),\n",
    "    Column('Discrete Salinity Flag', [MatchesPatternValidation(r\"\\*0|1{16}\") | MatchesPatternValidation(\"-9999999\")]),\n",
    "    Column('Discrete Salinity Replicate Flag', [MatchesPatternValidation(r\"\\*0|1{16}\") | MatchesPatternValidation(\"-9999999\")]),\n",
    "    \n",
    "    # Carbon System measurement: Check within ocean ranges; don't collect/measure pCO2\n",
    "    #     Alkalinity: Should be between 2200 - 2400\n",
    "    Column('Discrete Alkalinity [umol/kg]', [InRangeValidation(2200, 2400) | MatchesPatternValidation(\"-9999999\")]),\n",
    "    Column('Discrete Alkalinity Flag', [MatchesPatternValidation(r\"\\*0|1{16}\") | MatchesPatternValidation(\"-9999999\")]),\n",
    "    Column('Discrete Alkalinity Replicate Flag', [MatchesPatternValidation(r\"\\*0|1{16}\") | MatchesPatternValidation(\"-9999999\")]),\n",
    "    #     DIC: Range should be 1900 - 2300\n",
    "    Column('Discrete DIC [umol/kg]', [InRangeValidation(1900, 2300) | MatchesPatternValidation(\"-9999999\")]),\n",
    "    Column('Discrete DIC Flag', [MatchesPatternValidation(r\"\\*0|1{16}\") | MatchesPatternValidation(\"-9999999\")]),\n",
    "    Column('Discrete DIC Replicate Flag', [MatchesPatternValidation(r\"\\*0|1{16}\") | MatchesPatternValidation(\"-9999999\")]),\n",
    "    #     pCO2: CGSN doesn't measure; should be all fill values\n",
    "    Column('Discrete pCO2 [uatm]', [InRangeValidation(200, 1200) | MatchesPatternValidation(\"-9999999\")]),\n",
    "    Column('pCO2 Analysis Temp [deg C]', [DecimalValidation, InRangeValidation(24, 26) | MatchesPatternValidation(\"-9999999\")]),\n",
    "    Column('Discrete pCO2 Flag', [MatchesPatternValidation(r\"\\*0|1{16}\") | MatchesPatternValidation(\"-9999999\")]),\n",
    "    Column('Discrete pCO2 Replicate Flag', [MatchesPatternValidation(r\"\\*0|1{16}\") | MatchesPatternValidation(\"-9999999\")]),\n",
    "    #     pH: Range should be 7 - 9 & Analysis temp 25C\n",
    "    Column('Discrete pH [Total scale]', [InRangeValidation(7, 9) | MatchesPatternValidation(\"-9999999\")]),\n",
    "    Column('pH Analysis Temp [deg C]', [DecimalValidation, InRangeValidation(24, 26) | MatchesPatternValidation(\"-9999999\")]),\n",
    "    Column('Discrete pH Flag', [MatchesPatternValidation(r\"\\*0|1{16}\") | MatchesPatternValidation(\"-9999999\")]),\n",
    "    Column('Discrete pH Replicate Flag', [MatchesPatternValidation(r\"\\*0|1{16}\") | MatchesPatternValidation(\"-9999999\")]),\n",
    "    \n",
    "    # Calculated Carbon System measurement: We don't impute these, should all be fill values\n",
    "    Column('Calculated Alkalinity [umol/kg]', [MatchesPatternValidation(\"-9999999\")]),\n",
    "    Column('Calculated DIC [umol/kg]', [MatchesPatternValidation(\"-9999999\")]),\n",
    "    Column('Calculated pCO2 [uatm]', [MatchesPatternValidation(\"-9999999\")]),\n",
    "    Column('Calculated pH', [MatchesPatternValidation(\"-9999999\")]),\n",
    "    Column('Calculated CO2aq [umol/kg]', [MatchesPatternValidation(\"-9999999\")]),\n",
    "    Column('Calculated Bicarb [umol/kg]', [MatchesPatternValidation(\"-9999999\")]),\n",
    "    Column('Calculated CO3 [umol/kg]', [MatchesPatternValidation(\"-9999999\")]),\n",
    "    Column('Calculated Omega-C', [MatchesPatternValidation(\"-9999999\")]),\n",
    "    Column('Calculated Omega-A', [MatchesPatternValidation(\"-9999999\")])\n",
    "])"
   ]
  },
  {
   "cell_type": "code",
   "execution_count": null,
   "metadata": {},
   "outputs": [],
   "source": [
    "errors = schema.validate(summary_sheet)"
   ]
  },
  {
   "cell_type": "code",
   "execution_count": null,
   "metadata": {},
   "outputs": [],
   "source": [
    "for error in errors:\n",
    "    print(error)"
   ]
  },
  {
   "cell_type": "markdown",
   "metadata": {},
   "source": [
    "---\n",
    "### Metadata Columns\n",
    "Next, need to check that all of the metadata columns are the same for each station. We do this on a station-by-station basis."
   ]
  },
  {
   "cell_type": "code",
   "execution_count": null,
   "metadata": {},
   "outputs": [],
   "source": [
    "metadata_columns = [\"Cruise\", \"Station\", \"Target Asset\", \"Start Latitude [degrees]\", \n",
    "                    \"Start Longitude [degrees]\", \"Start Time [UTC]\", \"Cast\",\n",
    "                   \"Bottom Depth at Start Position [m]\", \"CTD File\"]\n",
    "metadata = summary_sheet[metadata_columns]"
   ]
  },
  {
   "cell_type": "markdown",
   "metadata": {},
   "source": [
    "#### Metadata Schema\n",
    "Build the schema for validating the metadata information is all the same for each station."
   ]
  },
  {
   "cell_type": "code",
   "execution_count": null,
   "metadata": {},
   "outputs": [],
   "source": [
    "# Rebuild the schema, grouping by input\n",
    "metadata_schema = Schema([\n",
    "    Column(\"Cruise\", [IsSameValidation]),\n",
    "    Column(\"Station\", [IsSameValidation]),\n",
    "    Column(\"Target Asset\", [IsSameValidation]),\n",
    "    Column(\"Start Latitude [degrees]\", [IsSameValidation]),\n",
    "    Column(\"Start Longitude [degrees]\", [IsSameValidation]),\n",
    "    Column(\"Start Time [UTC]\", [IsSameValidation]),\n",
    "    Column(\"Cast\", [IsSameValidation]),\n",
    "    Column(\"Bottom Depth at Start Position [m]\", [IsSameValidation]),\n",
    "    Column(\"CTD File\", [IsSameValidation]),\n",
    "])"
   ]
  },
  {
   "cell_type": "markdown",
   "metadata": {},
   "source": [
    "Run the validation on a station-by-station basis:"
   ]
  },
  {
   "cell_type": "code",
   "execution_count": null,
   "metadata": {},
   "outputs": [],
   "source": [
    "for station in metadata[\"Station\"].unique():\n",
    "    # Get the data associated with a particular station\n",
    "    station_data = metadata[metadata[\"Station\"] == station]\n",
    "    \n",
    "    # Run it through the validation checker\n",
    "    merrors = metadata_schema.validate(station_data)\n",
    "    for error in merrors:\n",
    "        print(error)"
   ]
  }
 ],
 "metadata": {
  "jupytext": {
   "formats": "ipynb,py:light"
  },
  "kernelspec": {
   "display_name": "Python 3",
   "language": "python",
   "name": "python3"
  },
  "language_info": {
   "codemirror_mode": {
    "name": "ipython",
    "version": 3
   },
   "file_extension": ".py",
   "mimetype": "text/x-python",
   "name": "python",
   "nbconvert_exporter": "python",
   "pygments_lexer": "ipython3",
   "version": "3.7.8"
  }
 },
 "nbformat": 4,
 "nbformat_minor": 4
}
